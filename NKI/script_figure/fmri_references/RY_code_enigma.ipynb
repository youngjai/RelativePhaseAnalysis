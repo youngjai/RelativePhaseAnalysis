{
 "cells": [
  {
   "cell_type": "code",
   "execution_count": 8,
   "metadata": {},
   "outputs": [
    {
     "name": "stdout",
     "output_type": "stream",
     "text": [
      "size of img_fdata: (91, 109, 91, 288)\n"
     ]
    }
   ],
   "source": [
    "import nibabel as nib\n",
    "import numpy as np\n",
    "from nilearn import surface\n",
    "from enigmatoolbox.utils.parcellation import parcel_to_surface\n",
    "from enigmatoolbox.plotting import plot_cortical\n",
    "\n",
    "img = nib.load('sub01_ses01_func_pp_filter_sm0.mni152.2mm.nii')\n",
    "# upsample with: 3dresample -dxyz 2.0 2.0 2.0 -prefix sub01_ses01_func_pp_filter_sm0.mni152.2mm.nii -input sub01_ses01_func_pp_filter_sm0.mni152.3mm.nii -rmode 'Cu'\n",
    "img_fdata = img.get_fdata()\n",
    "print(f'size of img_fdata: {img_fdata.shape}')"
   ]
  },
  {
   "cell_type": "code",
   "execution_count": 5,
   "metadata": {},
   "outputs": [
    {
     "name": "stdout",
     "output_type": "stream",
     "text": [
      "size of parcel: (91, 109, 91)\n",
      "numbers in parcel: [  0.   1.   2.   3.   4.   5.   6.   7.   8.   9.  10.  11.  12.  13.\n",
      "  14.  15.  16.  17.  18.  19.  20.  21.  22.  23.  24.  25.  26.  27.\n",
      "  28.  29.  30.  31.  32.  33.  34.  35.  36.  37.  38.  39.  40.  41.\n",
      "  42.  43.  44.  45.  46.  47.  48.  49.  50.  51.  52.  53.  54.  55.\n",
      "  56.  57.  58.  59.  60.  61.  62.  63.  64.  65.  66.  67.  68.  69.\n",
      "  70.  71.  72.  73.  74.  75.  76.  77.  78.  79.  80.  81.  82.  83.\n",
      "  84.  85.  86.  87.  88.  89.  90.  91.  92.  93.  94.  95.  96.  97.\n",
      "  98.  99. 100. 101. 102. 103. 104. 105. 106. 107. 108. 109. 110. 111.\n",
      " 112. 113. 114. 115. 116. 117. 118. 119. 120. 121. 122. 123. 124. 125.\n",
      " 126. 127. 128. 129. 130. 131. 132. 133. 134. 135. 136. 137. 138. 139.\n",
      " 140. 141. 142. 143. 144. 145. 146. 147. 148. 149. 150. 151. 152. 153.\n",
      " 154. 155. 156. 157. 158. 159. 160. 161. 162. 163. 164. 165. 166. 167.\n",
      " 168. 169. 170. 171. 172. 173. 174. 175. 176. 177. 178. 179. 180. 181.\n",
      " 182. 183. 184. 185. 186. 187. 188. 189. 190. 191. 192. 193. 194. 195.\n",
      " 196. 197. 198. 199. 200.]\n"
     ]
    }
   ],
   "source": [
    "parcel = nib.load('Schaefer2018_200Parcels_17Networks_order_FSLMNI152_2mm.nii.gz').get_fdata() # https://github.com/ThomasYeoLab/CBIG/tree/master/stable_projects/brain_parcellation/Schaefer2018_LocalGlobal/Parcellations/MNI\n",
    "print(f'size of parcel: {parcel.shape}')\n",
    "print(f'numbers in parcel: {np.unique(parcel)}')"
   ]
  },
  {
   "cell_type": "code",
   "execution_count": 3,
   "metadata": {},
   "outputs": [],
   "source": [
    "parcel_max_num = np.int16(np.max(np.unique(parcel)))\n",
    "\n",
    "# average timeseries within each parcel\n",
    "avg_array = np.zeros(parcel_max_num+1) # This array must have 201 elements (== the number of parcels+1)\n",
    "\n",
    "for i in range(parcel_max_num+1):\n",
    "    avg_array[i] = np.mean(img_fdata[parcel==i]) # mean across voxels and time -- if you want to mean across voxels within one TR, do -> np.mean(img_fdata[parcel==i][:,tr])"
   ]
  },
  {
   "cell_type": "code",
   "execution_count": 12,
   "metadata": {},
   "outputs": [],
   "source": [
    "# Map parcellated data to the surface\n",
    "avg_array_fsa5 = parcel_to_surface(avg_array, 'schaefer_200_fsa5') # This array must have 201 elements (== the number of parcels+1)\n",
    "\n",
    "# Project the results on the surface brain\n",
    "plot_cortical(array_name=avg_array_fsa5, surface_name=\"fsa5\", size=(800, 400),\n",
    "              cmap='RdBu_r', color_bar=True)#, color_range=(-0.5, 0.5))"
   ]
  }
 ],
 "metadata": {
  "kernelspec": {
   "display_name": "enigma",
   "language": "python",
   "name": "python3"
  },
  "language_info": {
   "codemirror_mode": {
    "name": "ipython",
    "version": 3
   },
   "file_extension": ".py",
   "mimetype": "text/x-python",
   "name": "python",
   "nbconvert_exporter": "python",
   "pygments_lexer": "ipython3",
   "version": "3.7.11"
  },
  "orig_nbformat": 4
 },
 "nbformat": 4,
 "nbformat_minor": 2
}
